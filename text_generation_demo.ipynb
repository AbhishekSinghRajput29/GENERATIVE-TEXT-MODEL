{
 "cells": [
  {
   "cell_type": "code",
   "execution_count": null,
   "id": "678fbd48",
   "metadata": {},
   "outputs": [],
   "source": [
    "# Cell 1: Setup\n",
    "!pip install transformers tensorflow"
   ]
  },
  {
   "cell_type": "code",
   "execution_count": null,
   "id": "e3f42f4a",
   "metadata": {},
   "outputs": [],
   "source": [
    "# Cell 2: Import Libraries\n",
    "import numpy as np\n",
    "from transformers import GPT2LMHeadModel, GPT2Tokenizer\n",
    "from tensorflow.keras.models import Sequential\n",
    "from tensorflow.keras.layers import Embedding, LSTM, Dense\n",
    "from tensorflow.keras.preprocessing.text import Tokenizer\n",
    "from tensorflow.keras.preprocessing.sequence import pad_sequences\n",
    "import random"
   ]
  },
  {
   "cell_type": "code",
   "execution_count": null,
   "id": "35316a42",
   "metadata": {},
   "outputs": [],
   "source": [
    "# Cell 3: Load GPT-2\n",
    "tokenizer = GPT2Tokenizer.from_pretrained(\"gpt2\")\n",
    "model = GPT2LMHeadModel.from_pretrained(\"gpt2\")"
   ]
  },
  {
   "cell_type": "code",
   "execution_count": null,
   "id": "8f098afe",
   "metadata": {},
   "outputs": [],
   "source": [
    "# Cell 4: Generate Text with GPT-2\n",
    "def generate_gpt2(prompt, max_length=150):\n",
    "    inputs = tokenizer(prompt, return_tensors=\"pt\")\n",
    "    outputs = model.generate(inputs[\"input_ids\"], max_length=max_length, do_sample=True)\n",
    "    return tokenizer.decode(outputs[0], skip_special_tokens=True)\n",
    "\n",
    "print(generate_gpt2(\"Explain the impact of climate change on biodiversity.\"))"
   ]
  },
  {
   "cell_type": "code",
   "execution_count": null,
   "id": "f4a230bd",
   "metadata": {},
   "outputs": [],
   "source": [
    "# Cell 5: LSTM Model Data Preprocessing (optional if you use LSTM)\n",
    "# Load and clean text\n",
    "text = open('../data/sample_texts.txt').read().lower()\n",
    "tokenizer = Tokenizer()\n",
    "tokenizer.fit_on_texts([text])\n",
    "total_words = len(tokenizer.word_index) + 1\n",
    "input_sequences = []\n",
    "\n",
    "for line in text.split('.'):\n",
    "    token_list = tokenizer.texts_to_sequences([line])[0]\n",
    "    for i in range(1, len(token_list)):\n",
    "        n_gram = token_list[:i+1]\n",
    "        input_sequences.append(n_gram)\n",
    "\n",
    "max_seq_len = max([len(x) for x in input_sequences])\n",
    "input_sequences = pad_sequences(input_sequences, maxlen=max_seq_len, padding='pre')\n",
    "X, y = input_sequences[:, :-1], input_sequences[:, -1]"
   ]
  },
  {
   "cell_type": "code",
   "execution_count": null,
   "id": "47c8bbc8",
   "metadata": {},
   "outputs": [],
   "source": [
    "# Cell 6: LSTM Model Training\n",
    "model_lstm = Sequential()\n",
    "model_lstm.add(Embedding(total_words, 64, input_length=max_seq_len - 1))\n",
    "model_lstm.add(LSTM(128))\n",
    "model_lstm.add(Dense(total_words, activation='softmax'))\n",
    "\n",
    "model_lstm.compile(loss='sparse_categorical_crossentropy', optimizer='adam', metrics=['accuracy'])\n",
    "model_lstm.fit(X, y, epochs=30, verbose=1)\n",
    "model_lstm.save('../models/lstm_model.h5')"
   ]
  },
  {
   "cell_type": "code",
   "execution_count": null,
   "id": "3f06ebb6",
   "metadata": {},
   "outputs": [],
   "source": [
    "# Cell 7: Generate Text with LSTM\n",
    "def generate_text_lstm(seed_text, next_words=50):\n",
    "    for _ in range(next_words):\n",
    "        token_list = tokenizer.texts_to_sequences([seed_text])[0]\n",
    "        token_list = pad_sequences([token_list], maxlen=max_seq_len-1, padding='pre')\n",
    "        predicted = np.argmax(model_lstm.predict(token_list, verbose=0), axis=-1)\n",
    "        for word, index in tokenizer.word_index.items():\n",
    "            if index == predicted:\n",
    "                seed_text += \" \" + word\n",
    "                break\n",
    "    return seed_text\n",
    "\n",
    "print(generate_text_lstm(\"The future of artificial intelligence\"))"
   ]
  }
 ],
 "metadata": {
  "kernelspec": {
   "display_name": "venv",
   "language": "python",
   "name": "python3"
  },
  "language_info": {
   "name": "python",
   "version": "3.10.11"
  }
 },
 "nbformat": 4,
 "nbformat_minor": 5
}
